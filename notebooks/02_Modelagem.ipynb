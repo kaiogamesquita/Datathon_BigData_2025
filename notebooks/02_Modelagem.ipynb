{
 "cells": [
  {
   "cell_type": "code",
   "execution_count": 1,
   "id": "8276ccc2-60d3-410c-af05-74fc394b57a8",
   "metadata": {},
   "outputs": [],
   "source": [
    "import sys, os\n",
    "sys.path.append(os.path.abspath(\"../\")) \n",
    "\n",
    "from src.train import run\n",
    "from src.config import OUTPUT_PATH"
   ]
  },
  {
   "cell_type": "code",
   "execution_count": 3,
   "id": "3d895669-6186-4153-adea-14a8a3978e4e",
   "metadata": {},
   "outputs": [
    {
     "name": "stdout",
     "output_type": "stream",
     "text": [
      "[2025-09-09 19:15:37] Iniciando pipeline\n",
      "[2025-09-09 19:15:37] Arquivo detectado: part-00000-tid-2779033056155408584-f6316110-4c9a-4061-ae48-69b77c7c8c36-4-1-c000.snappy.parquet  =>  dim_pdv\n",
      "[2025-09-09 19:15:37] Arquivo detectado: part-00000-tid-5196563791502273604-c90d3a24-52f2-4955-b4ec-fb143aae74d8-4-1-c000.snappy.parquet  =>  transacoes\n",
      "[2025-09-09 19:15:37] Arquivo detectado: part-00000-tid-6364321654468257203-dc13a5d6-36ae-48c6-a018-37d8cfe34cf6-263-1-c000.snappy.parquet  =>  desconhecido\n",
      "[2025-09-09 19:15:37] Usando transações: part-00000-tid-5196563791502273604-c90d3a24-52f2-4955-b4ec-fb143aae74d8-4-1-c000.snappy.parquet\n",
      "[2025-09-09 19:15:37] Agregando vendas semanais de 2022...\n",
      "[2025-09-09 19:17:16] Semanas agregadas: (6247301, 6)\n",
      "[2025-09-09 19:17:16] Gerando baseline EWMA...\n",
      "[2025-09-09 19:38:40] Arquivo gerado em: C:\\Users\\kaiog\\OneDrive\\Área de Trabalho\\Datathon Big Data 2025\\output\\predictions.csv | linhas: 4177240\n"
     ]
    }
   ],
   "source": [
    "run(n_weeks_out=4, out_path=OUTPUT_PATH)"
   ]
  },
  {
   "cell_type": "code",
   "execution_count": null,
   "id": "5dad35dc-2f2d-4db7-b3a5-f9c99bde0b5e",
   "metadata": {},
   "outputs": [],
   "source": []
  }
 ],
 "metadata": {
  "kernelspec": {
   "display_name": "Python 3 (ipykernel)",
   "language": "python",
   "name": "python3"
  },
  "language_info": {
   "codemirror_mode": {
    "name": "ipython",
    "version": 3
   },
   "file_extension": ".py",
   "mimetype": "text/x-python",
   "name": "python",
   "nbconvert_exporter": "python",
   "pygments_lexer": "ipython3",
   "version": "3.12.4"
  }
 },
 "nbformat": 4,
 "nbformat_minor": 5
}
