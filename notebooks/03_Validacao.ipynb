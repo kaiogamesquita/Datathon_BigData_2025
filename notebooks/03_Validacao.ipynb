{
 "cells": [
  {
   "cell_type": "code",
   "execution_count": 1,
   "id": "ad7412d2-904a-47b7-9977-0b53a80d043b",
   "metadata": {},
   "outputs": [],
   "source": [
    "import os, sys\n",
    "\n",
    "repo_root = os.path.abspath(os.path.join(os.getcwd(), \"..\"))\n",
    "sys.path.append(repo_root)\n",
    "\n",
    "import pandas as pd\n",
    "import numpy as np\n",
    "\n",
    "from src.utils import log\n",
    "from src.config import DATA_PATH, OUTPUT_PATH\n",
    "from src.data_io import map_files, weekly_aggregate_2022_stream\n",
    "from src.features import jan_2023_weeks\n",
    "from src.baselines import naive4_forecast, ewma_forecast\n",
    "from src.metrics import mae, rmse, mape, wmape"
   ]
  },
  {
   "cell_type": "code",
   "execution_count": 3,
   "id": "3fbf0e0b-c23d-4314-8de5-df8974f90f15",
   "metadata": {},
   "outputs": [
    {
     "name": "stdout",
     "output_type": "stream",
     "text": [
      "[2025-09-10 17:48:42] Arquivo detectado: part-00000-tid-2779033056155408584-f6316110-4c9a-4061-ae48-69b77c7c8c36-4-1-c000.snappy.parquet  =>  dim_pdv\n",
      "[2025-09-10 17:48:42] Arquivo detectado: part-00000-tid-5196563791502273604-c90d3a24-52f2-4955-b4ec-fb143aae74d8-4-1-c000.snappy.parquet  =>  transacoes\n",
      "[2025-09-10 17:48:42] Arquivo detectado: part-00000-tid-6364321654468257203-dc13a5d6-36ae-48c6-a018-37d8cfe34cf6-263-1-c000.snappy.parquet  =>  desconhecido\n",
      "[2025-09-10 17:48:42] Agregando 2022 por semana (streaming)…\n"
     ]
    },
    {
     "data": {
      "text/plain": [
       "(                   pdv              produto  ano_iso  semana_iso  quantidade  \\\n",
       " 0  1000237487041964405  1837429607327399565     2022           6         1.0   \n",
       " 1  1000237487041964405  1837429607327399565     2022           7         2.0   \n",
       " 2  1000237487041964405  1837429607327399565     2022          21         1.0   \n",
       " 3  1000237487041964405  1837429607327399565     2022          25         2.0   \n",
       " 4  1000237487041964405  1837429607327399565     2022          28         2.0   \n",
       " \n",
       "    faturamento  \n",
       " 0    32.920242  \n",
       " 1    65.840485  \n",
       " 2    36.120243  \n",
       " 3    72.240486  \n",
       " 4    72.240486  ,\n",
       " (6247301, 6))"
      ]
     },
     "execution_count": 3,
     "metadata": {},
     "output_type": "execute_result"
    }
   ],
   "source": [
    "mapping = map_files(DATA_PATH)\n",
    "assert 'transacoes' in mapping, \"Não encontrei o parquet de transações em data/.\"\n",
    "\n",
    "log(\"Agregando 2022 por semana (streaming)…\")\n",
    "wk = weekly_aggregate_2022_stream(mapping['transacoes'])\n",
    "wk = wk.sort_values(['pdv','produto','ano_iso','semana_iso']).reset_index(drop=True)\n",
    "wk.head(), wk.shape"
   ]
  },
  {
   "cell_type": "code",
   "execution_count": 5,
   "id": "9e9f7f32-a531-4de7-ad93-f72421ad1ec3",
   "metadata": {},
   "outputs": [
    {
     "name": "stdout",
     "output_type": "stream",
     "text": [
      "[2025-09-10 17:50:54] Fold 1/6 | teste=[(2022, 17), (2022, 18), (2022, 19), (2022, 20)]\n",
      "[2025-09-10 18:00:46] Fold 2/6 | teste=[(2022, 23), (2022, 24), (2022, 25), (2022, 26)]\n",
      "[2025-09-10 18:12:21] Fold 3/6 | teste=[(2022, 29), (2022, 30), (2022, 31), (2022, 32)]\n",
      "[2025-09-10 18:23:43] Fold 4/6 | teste=[(2022, 36), (2022, 37), (2022, 38), (2022, 39)]\n",
      "[2025-09-10 18:36:08] Fold 5/6 | teste=[(2022, 42), (2022, 43), (2022, 44), (2022, 45)]\n",
      "[2025-09-10 18:54:40] Fold 6/6 | teste=[(2022, 49), (2022, 50), (2022, 51), (2022, 52)]\n"
     ]
    },
    {
     "data": {
      "text/html": [
       "<div>\n",
       "<style scoped>\n",
       "    .dataframe tbody tr th:only-of-type {\n",
       "        vertical-align: middle;\n",
       "    }\n",
       "\n",
       "    .dataframe tbody tr th {\n",
       "        vertical-align: top;\n",
       "    }\n",
       "\n",
       "    .dataframe thead th {\n",
       "        text-align: right;\n",
       "    }\n",
       "</style>\n",
       "<table border=\"1\" class=\"dataframe\">\n",
       "  <thead>\n",
       "    <tr style=\"text-align: right;\">\n",
       "      <th></th>\n",
       "      <th>model</th>\n",
       "      <th>wmape</th>\n",
       "      <th>mape</th>\n",
       "      <th>mae</th>\n",
       "      <th>rmse</th>\n",
       "      <th>n_rows</th>\n",
       "    </tr>\n",
       "  </thead>\n",
       "  <tbody>\n",
       "    <tr>\n",
       "      <th>0</th>\n",
       "      <td>ewma_a0.5</td>\n",
       "      <td>1.410378</td>\n",
       "      <td>0.857108</td>\n",
       "      <td>12.521502</td>\n",
       "      <td>87.765507</td>\n",
       "      <td>3225397</td>\n",
       "    </tr>\n",
       "    <tr>\n",
       "      <th>1</th>\n",
       "      <td>naive4</td>\n",
       "      <td>1.440827</td>\n",
       "      <td>0.867919</td>\n",
       "      <td>12.679144</td>\n",
       "      <td>90.096507</td>\n",
       "      <td>3225397</td>\n",
       "    </tr>\n",
       "  </tbody>\n",
       "</table>\n",
       "</div>"
      ],
      "text/plain": [
       "       model     wmape      mape        mae       rmse   n_rows\n",
       "0  ewma_a0.5  1.410378  0.857108  12.521502  87.765507  3225397\n",
       "1     naive4  1.440827  0.867919  12.679144  90.096507  3225397"
      ]
     },
     "execution_count": 5,
     "metadata": {},
     "output_type": "execute_result"
    }
   ],
   "source": [
    "def unique_weeks_2022(wk):\n",
    "    weeks = wk[['ano_iso','semana_iso']].drop_duplicates().sort_values(['ano_iso','semana_iso'])\n",
    "    # início ou fim de ano ISO podem “vazar” 2021/2023; manter a ordem natural\n",
    "    return list(map(tuple, weeks[['ano_iso','semana_iso']].itertuples(index=False, name=None)))\n",
    "\n",
    "def make_calendar_from_weeks(test_weeks):\n",
    "    cal = pd.DataFrame(test_weeks, columns=['ano_iso','semana_iso']).sort_values(['ano_iso','semana_iso'])\n",
    "    cal['semana'] = np.arange(1, len(cal)+1, dtype=int)\n",
    "    return cal[['ano_iso','semana_iso','semana']]\n",
    "\n",
    "def filter_weeks(df, weeks_set):\n",
    "    key = list(map(tuple, df[['ano_iso','semana_iso']].itertuples(index=False, name=None)))\n",
    "    mask = [k in weeks_set for k in key]\n",
    "    return df.loc[mask]\n",
    "\n",
    "def rolling_origins(weeks_list, horizon=4, n_folds=6, min_train_weeks=16):\n",
    "    start = min_train_weeks\n",
    "    end = len(weeks_list) - horizon\n",
    "    end = max(end, start+1)\n",
    "    idxs = np.linspace(start, end-1, num=min(n_folds, max(1, end-start)), dtype=int)\n",
    "    folds = []\n",
    "    for o in idxs:\n",
    "        train_weeks = set(weeks_list[:o+1])\n",
    "        test_weeks = weeks_list[o+1:o+1+horizon]\n",
    "        folds.append((train_weeks, test_weeks))\n",
    "    return folds\n",
    "\n",
    "def evaluate_naive_ewma(wk, horizon=4, n_folds=6, alpha=0.5):\n",
    "    weeks = unique_weeks_2022(wk)\n",
    "    folds = rolling_origins(weeks, horizon=horizon, n_folds=n_folds, min_train_weeks=16)\n",
    "\n",
    "    rows = []\n",
    "    for i,(train_set,test_list) in enumerate(folds,1):\n",
    "        log(f\"Fold {i}/{len(folds)} | teste={test_list}\")\n",
    "        train_wk = filter_weeks(wk, train_set)\n",
    "        test_wk  = filter_weeks(wk, set(test_list))\n",
    "        cal = make_calendar_from_weeks(test_list)\n",
    "\n",
    "        pred_naive = naive4_forecast(train_wk, cal)\n",
    "        pred_ewma  = ewma_forecast(train_wk, cal, alpha=alpha)\n",
    "\n",
    "        y_true = (test_wk.merge(cal, on=['ano_iso','semana_iso'], how='inner')\n",
    "                        [['semana','pdv','produto','quantidade']]\n",
    "                        .rename(columns={'quantidade':'y'}))\n",
    "\n",
    "        def score(pred, name):\n",
    "            dfm = y_true.merge(pred, on=['semana','pdv','produto'], how='left')\n",
    "            dfm['quantidade'] = dfm['quantidade'].fillna(0).astype(int)\n",
    "            return {\n",
    "                'fold': i, 'model': name,\n",
    "                'wmape': wmape(dfm['y'], dfm['quantidade']),\n",
    "                'mape':  mape(dfm['y'], dfm['quantidade']),\n",
    "                'mae':   mae(dfm['y'], dfm['quantidade']),\n",
    "                'rmse':  rmse(dfm['y'], dfm['quantidade']),\n",
    "                'n_rows': len(dfm)\n",
    "            }\n",
    "\n",
    "        rows.append(score(pred_naive, \"naive4\"))\n",
    "        rows.append(score(pred_ewma,  f\"ewma_a{alpha}\"))\n",
    "\n",
    "    res = pd.DataFrame(rows)\n",
    "    res_overall = (res.groupby('model', as_index=False)\n",
    "                     .agg({'wmape':'mean','mape':'mean','mae':'mean','rmse':'mean','n_rows':'sum'})\n",
    "                     .sort_values('wmape'))\n",
    "    return res, res_overall\n",
    "\n",
    "res_folds, res_overall = evaluate_naive_ewma(wk, horizon=4, n_folds=6, alpha=0.5)\n",
    "res_overall"
   ]
  },
  {
   "cell_type": "code",
   "execution_count": 6,
   "id": "5ebd7fd5-5db2-432f-a071-7c5518f4e4d4",
   "metadata": {},
   "outputs": [
    {
     "data": {
      "text/plain": [
       "('C:\\\\Users\\\\kaiog\\\\OneDrive\\\\Área de Trabalho\\\\Datathon Big Data 2025\\\\output\\\\predictions_naive4.csv',\n",
       " (4177240, 4),\n",
       "    semana                  pdv              produto  quantidade\n",
       " 0       1  1000237487041964405  1837429607327399565           2\n",
       " 1       2  1000237487041964405  1837429607327399565           2\n",
       " 2       3  1000237487041964405  1837429607327399565           2\n",
       " 3       4  1000237487041964405  1837429607327399565           2\n",
       " 4       1  1000237487041964405  4038588102284338370           1)"
      ]
     },
     "execution_count": 6,
     "metadata": {},
     "output_type": "execute_result"
    }
   ],
   "source": [
    "cal = jan_2023_weeks(n_weeks=4)   # troque para 5 se necessário\n",
    "pred = naive4_forecast(wk, cal)\n",
    "\n",
    "os.makedirs(os.path.join(repo_root, \"output\"), exist_ok=True)\n",
    "out_path = os.path.join(repo_root, \"output\", \"predictions_naive4.csv\")\n",
    "pred.to_csv(out_path, sep=\";\", index=False, encoding=\"utf-8\")\n",
    "out_path, pred.shape, pred.head()"
   ]
  },
  {
   "cell_type": "code",
   "execution_count": 7,
   "id": "f050e97e-c8c9-4a9f-86c9-052033273fcb",
   "metadata": {},
   "outputs": [
    {
     "data": {
      "text/plain": [
       "('C:\\\\Users\\\\kaiog\\\\OneDrive\\\\Área de Trabalho\\\\Datathon Big Data 2025\\\\output\\\\predictions_ewma.csv',\n",
       " (4177240, 4),\n",
       "    semana                  pdv              produto  quantidade\n",
       " 0       1  1000237487041964405  1837429607327399565           2\n",
       " 1       2  1000237487041964405  1837429607327399565           2\n",
       " 2       3  1000237487041964405  1837429607327399565           2\n",
       " 3       4  1000237487041964405  1837429607327399565           2\n",
       " 4       1  1000237487041964405  4038588102284338370           1)"
      ]
     },
     "execution_count": 7,
     "metadata": {},
     "output_type": "execute_result"
    }
   ],
   "source": [
    "cal = jan_2023_weeks(n_weeks=4)   # troque para 5 se necessário\n",
    "pred = ewma_forecast(wk, cal, alpha=0.5)  # experimente 0.3 ou 0.7\n",
    "\n",
    "os.makedirs(os.path.join(repo_root, \"output\"), exist_ok=True)\n",
    "out_path = os.path.join(repo_root, \"output\", \"predictions_ewma.csv\")\n",
    "pred.to_csv(out_path, sep=\";\", index=False, encoding=\"utf-8\")\n",
    "out_path, pred.shape, pred.head()"
   ]
  },
  {
   "cell_type": "code",
   "execution_count": 8,
   "id": "13c49f5a-abf9-4acb-ac39-ba9675db0372",
   "metadata": {},
   "outputs": [
    {
     "name": "stdout",
     "output_type": "stream",
     "text": [
      "OK: 4177240 linhas | semanas 1..4 | PDVs 15086 | Produtos 7092.\n",
      "\n",
      "Amostra:\n",
      "         semana                  pdv              produto  quantidade\n",
      "4154999       4   966615364041998304  7799275059591320830           8\n",
      "4169475       4   990181515273433855   379454763001947803          48\n",
      "3652751       4  8309229924396980786  7891860100939313524           4\n",
      "1780055       4   459097202938988684  1441611406423199764           0\n",
      "2423110       3  5890345310509258153   945870105710456853           1\n"
     ]
    }
   ],
   "source": [
    "from src.validate_submission import validate_submission\n",
    "\n",
    "ok, msg = validate_submission(out_path, max_weeks=4, sep=\";\")\n",
    "print(msg)"
   ]
  },
  {
   "cell_type": "code",
   "execution_count": null,
   "id": "eb6bec79-967e-4e67-9f23-8ad2edc17057",
   "metadata": {},
   "outputs": [],
   "source": []
  }
 ],
 "metadata": {
  "kernelspec": {
   "display_name": "Python 3 (ipykernel)",
   "language": "python",
   "name": "python3"
  },
  "language_info": {
   "codemirror_mode": {
    "name": "ipython",
    "version": 3
   },
   "file_extension": ".py",
   "mimetype": "text/x-python",
   "name": "python",
   "nbconvert_exporter": "python",
   "pygments_lexer": "ipython3",
   "version": "3.12.4"
  }
 },
 "nbformat": 4,
 "nbformat_minor": 5
}
